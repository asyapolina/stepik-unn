{
 "cells": [
  {
   "cell_type": "markdown",
   "metadata": {},
   "source": [
    "# 7 Сортировка элементов\n",
    "\n",
    "## 7.1\n",
    "\n",
    "На вход программе подаётся строка, содержащая список слов разной длины, разделённых пробелом. Число слов не превышает 1000.\n",
    "\n",
    "Напишите функцию, позволяющую отсортировать данный список по возрастанию длины слов. Если в списке есть слова одинаковой длины, то в результирующем списке необходимо раньше поставить слово, которое стояло раньше в исходном списке. За основу необходимо взять алгоритм сортировки пузырьком.\n",
    "\n",
    "Программа должна вывести на экран отсортированный список слов через пробел."
   ]
  },
  {
   "cell_type": "code",
   "execution_count": 79,
   "metadata": {},
   "outputs": [
    {
     "name": "stdout",
     "output_type": "stream",
     "text": [
      "cube circle square rhombus triangle rectangle trapezoid\n"
     ]
    }
   ],
   "source": [
    "def bubble_sort(lst):\n",
    "    for i in range(0,len(lst)):\n",
    "        for j in range(0, len(lst)-i-1):\n",
    "            if len(lst[j]) > len(lst[j+1]):\n",
    "                lst[j], lst[j+1] = lst[j+1], lst[j]\n",
    "    return lst\n",
    "\n",
    "\n",
    "a = list(input().split())\n",
    "a_sort_by_len = bubble_sort(a)\n",
    "print(*a_sort_by_len) "
   ]
  },
  {
   "cell_type": "markdown",
   "metadata": {},
   "source": [
    "## 7.2\n",
    "\n",
    "На вход программе подаётся список целых чисел (из диапазона от -10000 до 10000), разделённых пробелом. Число элементов списка не превышает 10000. Элементы этого списка построчно формируют двумерный квадратный массив numpy. \n",
    "\n",
    "Напишите функцию для сортировки элементов массива по следующему правилу: элементы, расположенные в нечётных столбцах (с индексами 1, 3, ...) необходимо отсортировать по невозрастанию, а в чётных столбцах (с индексами 0, 2, ...) - по неубыванию. Сортировка элементов в столбцах массива должна основываться на самописной функции, реализующей алгоритм шейкерной сортировки (усовершенствованной разновидности сортировки пузырьком).\n",
    "\n",
    "Необходимо вывести на экран в строку через пробел элементы отсортированного по вышеуказанному правилу двумерного массива, взятые построчно."
   ]
  },
  {
   "cell_type": "code",
   "execution_count": 88,
   "metadata": {},
   "outputs": [
    {
     "name": "stdout",
     "output_type": "stream",
     "text": [
      "[[ 6173  1085  2240]\n",
      " [-8288 -5174  8172]\n",
      " [-5855 -4816  3145]]\n",
      "-8288 1085 2240 -5855 -4816 3145 6173 -5174 8172\n"
     ]
    }
   ],
   "source": [
    "import numpy as np\n",
    "\n",
    "\n",
    "def shaker_sort(arr, desc_order=False): \n",
    "    start_idx = 0\n",
    "    end_idx = len(arr) - 1\n",
    "    is_swapped = True\n",
    "\n",
    "    while (is_swapped == True): \n",
    "        is_swapped = False\n",
    "\n",
    "        for i in range(start_idx, end_idx): \n",
    "            if ((not desc_order and arr[i] > arr[i + 1]) or (desc_order and arr[i] < arr[i + 1])): \n",
    "                arr[i], arr[i + 1] = arr[i + 1], arr[i] \n",
    "                is_swapped = True\n",
    "\n",
    "        if (not(is_swapped)): \n",
    "            break\n",
    "\n",
    "        is_swapped = False\n",
    "        end_idx= end_idx - 1\n",
    "  \n",
    "        for i in range(end_idx - 1, start_idx - 1, -1): \n",
    "            if ((not desc_order and arr[i] > arr[i + 1]) or (desc_order and arr[i] < arr[i + 1])): \n",
    "                arr[i], arr[i + 1] = arr[i + 1], arr[i] \n",
    "                is_swapped = True\n",
    "        start_idx = start_idx + 1\n",
    "\n",
    "\n",
    "n = list(map(int, input().split()))\n",
    "size = int(len(n) ** (1/2))\n",
    "a = np.array(n)\n",
    "a = a.reshape(size, size)\n",
    "print(a)\n",
    "for i in range(size):\n",
    "    if i % 2 == 0:\n",
    "        shaker_sort(a.T[i], desc_order=False)\n",
    "    else:\n",
    "        shaker_sort(a.T[i], desc_order=True)\n",
    "print(*a.flatten())"
   ]
  },
  {
   "cell_type": "code",
   "execution_count": 83,
   "metadata": {},
   "outputs": [
    {
     "name": "stdout",
     "output_type": "stream",
     "text": [
      "[[1 9]\n",
      " [2 8]]\n",
      "[1 2]\n",
      "[[-999    9]\n",
      " [   2    8]]\n"
     ]
    }
   ],
   "source": [
    "n = list(map(int, input().split()))\n",
    "size = int(len(n) ** (1/2))\n",
    "a = np.array(n)\n",
    "a = a.reshape(size, size)\n",
    "print(a)\n",
    "print(a.T[0])\n",
    "a.T[0][0] = -999\n",
    "print(a)"
   ]
  },
  {
   "cell_type": "markdown",
   "metadata": {},
   "source": [
    "## 7.3\n",
    "\n",
    "На вход программе подаётся строка, содержащая список слов разной длины, разделённых пробелом. Число слов не превышает 10000. Все слова состоят из букв английского алфавита в нижнем регистре.\n",
    "\n",
    "Напишите функцию, которая преобразовывает входную строку так, чтобы буквы каждого слова в ней были отсортированы по алфавиту. Порядок самих слов не изменяется. Данная функция должна основываться на самописной функции сортировки подсчётом.\n",
    "\n",
    "Программа должна вывести на экран список слов через пробел, отсортированных в соответствии с условием задачи."
   ]
  },
  {
   "cell_type": "code",
   "execution_count": 97,
   "metadata": {},
   "outputs": [
    {
     "name": "stdout",
     "output_type": "stream",
     "text": [
      "['aabb', 'aabb', 'abcd', 'abcd']\n"
     ]
    }
   ],
   "source": [
    "def count_sort(a, keys_set):\n",
    "    keys_count = {ch : 0 for ch in keys_set}\n",
    "    for el in a:\n",
    "        keys_count[el] += 1\n",
    "    sorted_a = []\n",
    "    for key, val in keys_count.items():\n",
    "        sorted_a += [key] * val\n",
    "    return sorted_a\n",
    "        \n",
    "\n",
    "words = input().split()\n",
    "result = []\n",
    "for word in words:\n",
    "    result.append(\"\".join(count_sort(word, list(map(chr, range(ord('a'), ord('z')+1))))))\n",
    "print(result)"
   ]
  },
  {
   "cell_type": "code",
   "execution_count": 93,
   "metadata": {},
   "outputs": [
    {
     "data": {
      "text/plain": [
       "[]"
      ]
     },
     "execution_count": 93,
     "metadata": {},
     "output_type": "execute_result"
    }
   ],
   "source": [
    "a = []\n",
    "a += [2]*0\n",
    "a"
   ]
  },
  {
   "cell_type": "markdown",
   "metadata": {},
   "source": [
    "## 7.4 \n",
    "\n",
    "Даны два отсортированных по невозрастанию целочисленных массива разной длины. Напишите функцию, которая позволит объединить их в один отсортированный по убыванию массив. \n",
    "\n",
    "На вход программе подаётся две строки: в первой строке через запятую указаны элементы первого массива, во второй строке через запятую указаны элементы второго массива.\n",
    "\n",
    "Программа должна вывести на экран через запятую элементы результирующего отсортированного массива, полученного слиянием двух входных массивов."
   ]
  },
  {
   "cell_type": "code",
   "execution_count": 98,
   "metadata": {},
   "outputs": [
    {
     "name": "stdout",
     "output_type": "stream",
     "text": [
      "108,90,76,54,37,32,30,10,10,10,5,2,1\n"
     ]
    }
   ],
   "source": [
    "def merge(lst1, lst2, desc_order=False):\n",
    "    i = 0 \n",
    "    j = 0\n",
    "    lst_res = []\n",
    "    while i < len(lst1) and j < len(lst2):\n",
    "        if not desc_order and lst1[i] < lst2[j] \\\n",
    "            or desc_order and lst1[i] > lst2[j]:\n",
    "            lst_res.append(lst1[i])\n",
    "            i += 1\n",
    "        else: \n",
    "            lst_res.append(lst2[j])\n",
    "            j += 1\n",
    "    while i < len(lst1):\n",
    "        lst_res.append(lst1[i])\n",
    "        i += 1\n",
    "    while j < len(lst2):\n",
    "        lst_res.append(lst2[j])\n",
    "        j += 1\n",
    "    return lst_res\n",
    "    \n",
    "            \n",
    "a1 = list(map(int, input().split(\",\")))\n",
    "a2 = list(map(int, input().split(\",\")))\n",
    "print(*merge(a1, a2, True), sep=\",\")"
   ]
  },
  {
   "cell_type": "markdown",
   "metadata": {},
   "source": [
    "## 7.5\n",
    "\n",
    "Даны два целочисленных списка разной длины. Напишите функцию, которая перераспределит элементы списков так, чтобы в первом списке оказались наименьшие значения среди значений обоих списков (расположенные по возрастанию), а во втором - наибольшие значения среди значений обоих списков (также расположенные по возрастанию). Длины списков не должны изменяться.\n",
    "\n",
    "На вход программе подаётся две строки: в первой строке через запятую указаны элементы первого списка, во второй строке через запятую указаны элементы второго списка.\n",
    "\n",
    "Программа должна вывести на экран две строки: в первой строке через запятую элементы результирующего отсортированного списка наименьших элементов, во второй строке - через запятую элементы результирующего отсортированного списка наибольших элементов."
   ]
  },
  {
   "cell_type": "code",
   "execution_count": 105,
   "metadata": {},
   "outputs": [
    {
     "name": "stdout",
     "output_type": "stream",
     "text": [
      "[-9, -6, -6, 1, 2, 4, 9, 33, 49]\n",
      "[-5, -1, 9, 35, 56, 87]\n",
      "-9,-6,-6,-5,-1,1,2,4,9\n",
      "9,33,35,49,56,87\n",
      "[-9, -6, -6, -5, -1, 1, 2, 4, 9, 9, 33, 35, 49, 56, 87]\n"
     ]
    }
   ],
   "source": [
    "def merge(lst1, lst2, desc_order=False):\n",
    "    i = 0 \n",
    "    j = 0\n",
    "    lst_res = []\n",
    "    while i < len(lst1) and j < len(lst2):\n",
    "        if not desc_order and lst1[i] <= lst2[j] \\\n",
    "            or desc_order and lst1[i] >= lst2[j]:\n",
    "            lst_res.append(lst1[i])\n",
    "            i += 1\n",
    "        else: \n",
    "            lst_res.append(lst2[j])\n",
    "            j += 1\n",
    "    while i < len(lst1):\n",
    "        lst_res.append(lst1[i])\n",
    "        i += 1\n",
    "    while j < len(lst2):\n",
    "        lst_res.append(lst2[j])\n",
    "        j += 1\n",
    "    return lst_res\n",
    "    \n",
    "            \n",
    "a1 = list(map(int, input().split(\",\")))\n",
    "a2 = list(map(int, input().split(\",\")))\n",
    "res = merge(sorted(a1), sorted(a2))\n",
    "print(*res[:len(a1)], sep=\",\")\n",
    "print(*res[len(a1):], sep=\",\")"
   ]
  }
 ],
 "metadata": {
  "language_info": {
   "name": "python"
  },
  "orig_nbformat": 4
 },
 "nbformat": 4,
 "nbformat_minor": 2
}
