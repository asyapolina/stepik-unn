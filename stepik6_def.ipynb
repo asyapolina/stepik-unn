{
 "cells": [
  {
   "cell_type": "markdown",
   "id": "7708ab5e",
   "metadata": {},
   "source": [
    "# Функции"
   ]
  },
  {
   "cell_type": "markdown",
   "id": "ac5b88a4",
   "metadata": {},
   "source": [
    "## 6.1\n",
    "На вход программе подаётся натуральное число N. Определите, является ли это число совершенным (число совершенно, если оно равно сумме всех своих делителей, кроме самого себя, например, 6 = 1 + 2 + 3). Программа должна вывести на экран yes, если число совершенно, и no в противном случае. Для решения задачи напишите функцию, которая определит совершенность числа."
   ]
  },
  {
   "cell_type": "code",
   "execution_count": 35,
   "id": "100c0663",
   "metadata": {},
   "outputs": [
    {
     "name": "stdout",
     "output_type": "stream",
     "text": [
      "6\n",
      "yes\n"
     ]
    },
    {
     "data": {
      "text/plain": [
       "6"
      ]
     },
     "execution_count": 35,
     "metadata": {},
     "output_type": "execute_result"
    }
   ],
   "source": [
    "def perfect_num(n):\n",
    "    m = 0\n",
    "    for divider in range(1, n//2 + 1):\n",
    "        if n % divider == 0:\n",
    "            m += divider\n",
    "    if m == n:\n",
    "        print(\"yes\")\n",
    "    else:\n",
    "        print(\"no\")\n",
    "    return n\n",
    "\n",
    "n = int(input())\n",
    "perfect_num(n)"
   ]
  },
  {
   "cell_type": "markdown",
   "id": "45c2c201",
   "metadata": {},
   "source": [
    "## 6.2 \n",
    "Напишите функцию, которая циклически сдвигает целочисленные элементы списка  вправо или влево на указанное число позиций. Сдвиг должен быть кольцевым, то есть те элементы, которые уходят вправо или влево за пределы списка, должны помещаться с другого его конца. Функция должна принимать следующие аргументы: список элементов, количество позиций для сдвига p, p≥0  и переменную, которая укажет, в какую сторону выполнять сдвиг (влево - left или вправо - right). Функция должна вернуть  список, полученный после циклического сдвига.\n",
    "\n",
    "На вход программе подаётся список целых чисел, записанных в первой строке через пробел; количество позиций для сдвига записано во второй строке и переменная направления сдвига, которая может принимать два значения - left и right, в третьей строке.\n",
    "\n",
    "Программа должна вывести на экран список значений (через пробел), полученный из функции после циклического сдвига."
   ]
  },
  {
   "cell_type": "code",
   "execution_count": 159,
   "id": "b1f48126",
   "metadata": {},
   "outputs": [
    {
     "name": "stdout",
     "output_type": "stream",
     "text": [
      "[4, 5, 1, 8, 3, 9]\n"
     ]
    }
   ],
   "source": [
    "def shift(lst, p, way):\n",
    "    l = len(lst)\n",
    "    lst_new = []\n",
    "    if way == \"left\":\n",
    "        for i in range(l):\n",
    "            lst_new.append(lst[(i+p) % l])\n",
    "    if way == \"right\":\n",
    "        for i in range(l):\n",
    "            lst_new.append(lst[(i-p) % l])\n",
    "    return lst_new\n",
    "\n",
    "\n",
    "lst1 = list(map(int, input().split()))\n",
    "pl = int(input())\n",
    "direct = input()\n",
    "print(*shift(lst1, pl, direct))"
   ]
  },
  {
   "cell_type": "code",
   "execution_count": null,
   "id": "3a4bfff0",
   "metadata": {},
   "outputs": [],
   "source": [
    "lst1 = [4, 5, 1, 8, 3, 9]\n",
    "pl = 6\n",
    "direct = \"right\""
   ]
  },
  {
   "cell_type": "markdown",
   "id": "0982ef08",
   "metadata": {},
   "source": [
    "## 6.3 \n",
    "Напишите функцию-шифровальщик, которая с помощью специального алгоритма зашифрует заданное предложение. Алгоритм шифрования данных заключается в следующем:\n",
    "\n",
    "1. Все слова в предложении записываются в обратном порядке.\n",
    "\n",
    "2. Каждое слово записывается в обратном порядке.\n",
    "\n",
    "3. Каждая гласная буква удваивается, а каждая согласная - утраивается.\n",
    "\n",
    "4. Первая и последняя буква каждого слова переводится в верхний регистр (регистр остальных букв остаётся без изменений).\n",
    "\n",
    "На вход программе подаётся предложение на английском языке (слова разделены пробелом, знаков препинания нет), причём буквы могут быть как в верхнем, так и в нижнем регистре. Необходимо с помощью функции-шифровальщика получить зашифрованное предложение и вывести его на экран. Считается, что буква Y(y) - гласная."
   ]
  },
  {
   "cell_type": "code",
   "execution_count": 236,
   "id": "a1bb9b9d",
   "metadata": {},
   "outputs": [
    {
     "name": "stdout",
     "output_type": "stream",
     "text": [
      "EeGGGaasssSSSeemM TTTeeRRRccceesS AA SssI SSSiihhhTT\n"
     ]
    }
   ],
   "source": [
    "def encryption(lst):\n",
    "    lst.reverse()\n",
    "    res = []\n",
    "    lst = [s[::-1] for s in lst]\n",
    "    vowels = [\"a\", \"e\", \"y\", \"u\", \"o\", \"i\"]\n",
    "    for word in lst:\n",
    "        c_word = \"\"\n",
    "        for el in word:\n",
    "            if el.lower() in vowels:\n",
    "                c_word += el * 2\n",
    "            else:\n",
    "                c_word += el * 3\n",
    "        c_word = c_word[0].upper() + c_word[1:-1] + c_word[-1].upper()\n",
    "        res.append(c_word)\n",
    "        \n",
    "    return res\n",
    "\n",
    "\n",
    "lst = list(input().split())\n",
    "print(*encryption(lst))"
   ]
  },
  {
   "cell_type": "markdown",
   "id": "2997c356",
   "metadata": {},
   "source": [
    "## 6.4 \n",
    "Напишите функцию, которая находит произведение квадратной матрицы размером N×N самой на себя, и у матрицы, которая является результатом произведения, определяет минимальный элемент M среди элементов расположенных ниже побочной диагонали.\n",
    "\n",
    "На вход программе в первой строке подаётся число строк/столбцов квадратной матрицы N, (N≥2). Далее идут N строк, содержащих по N целых чисел (в диапазоне от -100 до 100), записанных через пробел. \n",
    "\n",
    "Программа должна вывести на экран результат вызова функции, а именно минимальный элемент M."
   ]
  },
  {
   "cell_type": "code",
   "execution_count": 32,
   "id": "50d32383",
   "metadata": {},
   "outputs": [
    {
     "name": "stdout",
     "output_type": "stream",
     "text": [
      "[[  1   6   7  -3  20]\n",
      " [ -7 -43   8   3  -6]\n",
      " [ 87   1   0   5  -5]\n",
      " [  5   3   1 -88   4]\n",
      " [ 90  11   6  -4   1]]\n",
      "[[2353  -34  172  234  -43]\n",
      " [ 465 1758 -426 -308   84]\n",
      " [-345  439  592 -678 1749]\n",
      " [  -9 -318   -5 7727 -271]\n",
      " [ 605   72  720  141 1689]]\n",
      "-88\n",
      "-678\n",
      "-678\n"
     ]
    }
   ],
   "source": [
    "import numpy as np \n",
    "\n",
    "\n",
    "def find_minimum_from_side_diagonal_of_matrix(a):\n",
    "    n_row, n_col = a.shape\n",
    "    min_a = a[-1, -1]\n",
    "    for i in range(0, n_row):\n",
    "        for j in range(0, n_col):\n",
    "            if i + j >= n_row:\n",
    "                if a[i, j] <= min_a:\n",
    "                    min_a = a[i, j]\n",
    "    print(min_a)                \n",
    "    return min_a\n",
    "\n",
    "n = int(input())\n",
    "#lst = []\n",
    "lst = list(map(int, input().split()))\n",
    "        # for i in range(n):\n",
    "        #     nn = list(map(int, input().split()))\n",
    "        #     lst.append(nn)\n",
    "if n >= 2:\n",
    "    a = np.array(lst)\n",
    "    a = a.reshape(n, n)\n",
    "    res = np.dot(a, a)\n",
    "    print(a)\n",
    "    print(res)\n",
    "    print(min(find_minimum_from_side_diagonal_of_matrix(a), find_minimum_from_side_diagonal_of_matrix(res)))\n",
    "else:\n",
    "    print(\"Ошибка\")"
   ]
  },
  {
   "cell_type": "markdown",
   "id": "4744adf4",
   "metadata": {},
   "source": [
    "1 6 7 -3 20 -7 -43 8 3 -6 87 1 0 5 -5 5 3 1 -88 4 90 11 6 -4 1\n",
    "1 6 7 -3 20 -700 -43 8 3 -6 87 1 0 5 -5 5 3 1 -88 4 90 11 6 -4 1"
   ]
  },
  {
   "cell_type": "markdown",
   "id": "58875e6c",
   "metadata": {},
   "source": [
    "## 6.5 \n",
    "На вход программе в первой строке подаётся английское слово S, во второй строке - число N строк/столбцов квадратной матрицы, состоящей из букв английского алфавита, а в третьей строке N^2 \n",
    "  букв, разделённые пробелом, которые последовательно по строкам формируют квадратную матрицу. Слово и все буквы задаются в нижнем регистре.\n",
    "\n",
    "Напишите функцию, которая в матрице из букв находит заданное слово S и возвращает позицию (номер строки  i и номер столбца j матрицы в 0-индексации), в которой начинается слово, а так же его расположение LL (вертикально vertically или горизонтально horizontally). Считается, что слово может располагаться непрерывно горизонтально слева-направо или вертикально сверху-вниз. Гарантируется, что заданное слово встречается в матрице не более чем один раз. Длина заданного слова не меньше 2.\n",
    "\n",
    "Программа должна вывести на экран значения переменных i, j, Li,j,L через запятую. Если заданного слова S нет в матрице, то вывести none. "
   ]
  },
  {
   "cell_type": "code",
   "execution_count": 36,
   "id": "c7e3f3e1",
   "metadata": {},
   "outputs": [
    {
     "name": "stdout",
     "output_type": "stream",
     "text": [
      "0,2,vertically\n"
     ]
    }
   ],
   "source": [
    "import numpy as np\n",
    "\n",
    "\n",
    "def find_word(a, s):\n",
    "    for i, row in enumerate(a):\n",
    "        row_string = \"\".join(row)\n",
    "        j = row_string.find(s)\n",
    "        if j != -1:\n",
    "            return i, j, \"horizontally\"\n",
    "    for j, col in enumerate(a.T):\n",
    "        col_string = \"\".join(col)\n",
    "        i = col_string.find(s)\n",
    "        if i != -1:\n",
    "            return i, j, \"vertically\"\n",
    "\n",
    "        \n",
    "s = input()\n",
    "n = int(input())\n",
    "lst = input().split()\n",
    "a = np.array(lst)\n",
    "a = a.reshape(n, n)\n",
    "if find_word(a, s):\n",
    "    print(*find_word(a, s), sep=\",\")\n",
    "else:\n",
    "    print(\"none\")"
   ]
  }
 ],
 "metadata": {
  "kernelspec": {
   "display_name": "Python 3 (ipykernel)",
   "language": "python",
   "name": "python3"
  },
  "language_info": {
   "codemirror_mode": {
    "name": "ipython",
    "version": 3
   },
   "file_extension": ".py",
   "mimetype": "text/x-python",
   "name": "python",
   "nbconvert_exporter": "python",
   "pygments_lexer": "ipython3",
   "version": "3.9.9"
  }
 },
 "nbformat": 4,
 "nbformat_minor": 5
}
