{
 "cells": [
  {
   "cell_type": "markdown",
   "metadata": {},
   "source": [
    "# 8 Поиск элементов\n",
    "## 8.1 \n",
    "\n",
    "На вход программе в первой строке подаётся натуральное число xx, во второй строке - число строк/столбцов квадратной матрицы N,(N≥2). Далее идут NN строк матрицы, содержащих по NN целых чисел (в диапазоне от -1000 до 1000), записанных через пробел. \n",
    "\n",
    "Напишите функцию, которая с помощью алгоритма линейного (последовательного) поиска находит все элементы двумерного массива numpy (входной матрицы), которые нацело делятся на xx и определяет сумму всех таких элементов.\n",
    "\n",
    "Программа должна вывести на экран результирующую сумму. Если в массиве ни один элемент не делится нацело на x, то вывести 0."
   ]
  },
  {
   "cell_type": "code",
   "execution_count": 4,
   "metadata": {},
   "outputs": [
    {
     "name": "stdout",
     "output_type": "stream",
     "text": [
      "219\n"
     ]
    }
   ],
   "source": [
    "import numpy as np\n",
    "\n",
    "\n",
    "def linear_search(arr, x):\n",
    "    summ = 0\n",
    "    for el in arr:\n",
    "        if el % x == 0:\n",
    "            summ += el\n",
    "    return summ\n",
    "\n",
    "x = int(input())\n",
    "n = int(input())\n",
    "a = np.empty(shape = (0, n), dtype = int)\n",
    "for i in range(n):\n",
    "    row = list(map(int, input().split()))\n",
    "    a = np.append(a, [row], axis=0)\n",
    "print(linear_search(a.flatten(), x))"
   ]
  },
  {
   "cell_type": "markdown",
   "metadata": {},
   "source": [
    "# 8.2\n",
    "На вход программе в первой строке подаётся список A отсортированных по убыванию неповторяющихся целочисленных элементов, разделённых запятой, а во второй строке - список B, состоящий из целых чисел, также разделённых запятой.\n",
    "\n",
    "Напишите функцию, которая определяет позиции (в 0-индексации) по порядку всех элементов из списка BB в заданном списке A с помощью алгоритма бинарного поиска (другие способы поиска, например, хеш-таблицы, использовать нельзя).\n",
    "\n",
    "Программа должна вывести на экран найденные позиции через запятую. В случае, если какого-то элемента из списка B нет в списке A, то вывести для соответствующего элемента -1."
   ]
  },
  {
   "cell_type": "code",
   "execution_count": 9,
   "metadata": {},
   "outputs": [
    {
     "name": "stdout",
     "output_type": "stream",
     "text": [
      "9,4,-1\n"
     ]
    }
   ],
   "source": [
    "def binary_search(lst, x):\n",
    "    low = 0\n",
    "    high = len(lst) - 1\n",
    "    while low <= high:\n",
    "        middle = (low+high) // 2\n",
    "        if lst[middle] == x:\n",
    "            return middle\n",
    "        elif x > lst[middle]:\n",
    "            high = middle - 1\n",
    "        elif x < lst[middle]:\n",
    "            low = middle + 1\n",
    "    return -1\n",
    "\n",
    "\n",
    "lst1 = list(map(int, input().split(\",\")))\n",
    "lst2 = list(map(int, input().split(\",\")))\n",
    "ids = []\n",
    "for el in lst2:\n",
    "    ids.append(binary_search(lst1, el))\n",
    "print(*ids, sep=\",\")"
   ]
  },
  {
   "cell_type": "markdown",
   "metadata": {},
   "source": [
    "# 8.3"
   ]
  },
  {
   "cell_type": "markdown",
   "metadata": {},
   "source": []
  },
  {
   "cell_type": "code",
   "execution_count": 13,
   "metadata": {},
   "outputs": [
    {
     "name": "stdout",
     "output_type": "stream",
     "text": [
      "1 2 3\n"
     ]
    }
   ],
   "source": [
    "import numpy as np\n",
    "\n",
    "\n",
    "def find_all_occurrences(lst, x, pos, inds):\n",
    "    x_ids = [inds[pos]]\n",
    "    back = pos - 1\n",
    "    while  back >= 0:\n",
    "        if lst[back] == x:\n",
    "            x_ids.append(inds[back])\n",
    "        else:\n",
    "            break\n",
    "        back -= 1\n",
    "    x_ids.reverse()\n",
    "    forward = pos + 1\n",
    "    while  forward < len(inds):\n",
    "        if lst[forward] == x:\n",
    "            x_ids.append(inds[forward])\n",
    "        else:\n",
    "            break\n",
    "        forward += 1\n",
    "    return sorted(x_ids)\n",
    "\n",
    "\n",
    "def binary_search(init_lst, x):\n",
    "    lst = init_lst.copy()\n",
    "    inds = np.argsort(lst)\n",
    "    lst = np.array(lst)[inds]\n",
    "    low = 0\n",
    "    high = len(lst) - 1\n",
    "    while low <= high:\n",
    "            middle = (low + high) // 2 \n",
    "            if lst[middle] == x:\n",
    "                return find_all_occurrences(lst, x, middle, inds)\n",
    "            elif x < lst[middle]:\n",
    "                high = middle - 1\n",
    "            elif x > lst[middle]:\n",
    "                low = middle + 1\n",
    "    return [-1]\n",
    "\n",
    "\n",
    "lst = list(map(int, input().split()))\n",
    "x = int(input())\n",
    "print(*binary_search(lst, x))"
   ]
  },
  {
   "cell_type": "markdown",
   "metadata": {},
   "source": [
    "# 8.4"
   ]
  },
  {
   "cell_type": "code",
   "execution_count": null,
   "metadata": {},
   "outputs": [],
   "source": [
    "def build_hash_table_from_string(s, k):\n",
    "    hash_table = {}\n",
    "    for j in range(len(s) - k + 1):\n",
    "        substr = s[j:j+k]\n",
    "        if substr in hash_table:\n",
    "            hash_table[substr].append(j)\n",
    "        else:\n",
    "            hash_table[substr] = [j]\n",
    "    return hash_table\n",
    "\n",
    "\n",
    "def find_substr(s, substr):\n",
    "    if (len(s) < len(substr)):\n",
    "        return [-1]\n",
    "    hash_table = build_hash_table_from_string(s, len(substr))\n",
    "    if substr in hash_table:\n",
    "        return hash_table[substr]\n",
    "    else:\n",
    "        return [-1]\n",
    "\n",
    "\n",
    "x = input()\n",
    "s = input()\n",
    "print(*find_substr(s, x))"
   ]
  },
  {
   "cell_type": "markdown",
   "metadata": {},
   "source": []
  },
  {
   "cell_type": "code",
   "execution_count": 21,
   "metadata": {},
   "outputs": [
    {
     "name": "stdout",
     "output_type": "stream",
     "text": [
      "1;2;3;6;19\n"
     ]
    }
   ],
   "source": [
    "def build_hash_table_from_string(s, k):\n",
    "    hash_table = {}\n",
    "    for j in range(len(s) - k + 1):\n",
    "        substr = s[j:j+k]\n",
    "        if substr in hash_table:\n",
    "            hash_table[substr].append(j)\n",
    "        else:\n",
    "            hash_table[substr] = [j]\n",
    "    return hash_table\n",
    "\n",
    "\n",
    "def find_substr(s, k):\n",
    "    vowels = [\"a\", \"e\", \"y\", \"u\", \"o\", \"i\"]\n",
    "    hash_table = build_hash_table_from_string(s, k)\n",
    "    ids = []\n",
    "    vowels_count = 0\n",
    "    cons_count = 0\n",
    "    for key, val in hash_table.items():\n",
    "        if ' ' not in key:\n",
    "            for ch in key:\n",
    "                if ch in vowels:\n",
    "                    vowels_count += 1\n",
    "                elif ch:\n",
    "                    cons_count += 1\n",
    "            if 0 <= vowels_count - cons_count <= 1:\n",
    "                ids += val\n",
    "            vowels_count = cons_count = 0    \n",
    "    if len(ids) > 0:\n",
    "        return sorted(ids)\n",
    "    else:\n",
    "        return [-1]\n",
    "\n",
    "\n",
    "k = int(input())\n",
    "s = input()\n",
    "print(*find_substr(s, k), sep=';')"
   ]
  },
  {
   "cell_type": "code",
   "execution_count": 20,
   "metadata": {},
   "outputs": [
    {
     "data": {
      "text/plain": [
       "'byoe '"
      ]
     },
     "execution_count": 20,
     "metadata": {},
     "output_type": "execute_result"
    }
   ],
   "source": [
    "s = \"daabcuyoiff hgflakdfbyoe iyhhgsjdhhga\"\n",
    "s[20:25]"
   ]
  },
  {
   "cell_type": "code",
   "execution_count": null,
   "metadata": {},
   "outputs": [],
   "source": []
  }
 ],
 "metadata": {
  "interpreter": {
   "hash": "ac59ebe37160ed0dfa835113d9b8498d9f09ceb179beaac4002f036b9467c963"
  },
  "kernelspec": {
   "display_name": "Python 3.9.9 64-bit",
   "language": "python",
   "name": "python3"
  },
  "language_info": {
   "codemirror_mode": {
    "name": "ipython",
    "version": 3
   },
   "file_extension": ".py",
   "mimetype": "text/x-python",
   "name": "python",
   "nbconvert_exporter": "python",
   "pygments_lexer": "ipython3",
   "version": "3.9.9"
  },
  "orig_nbformat": 4
 },
 "nbformat": 4,
 "nbformat_minor": 2
}
