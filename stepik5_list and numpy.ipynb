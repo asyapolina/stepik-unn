{
 "cells": [
  {
   "cell_type": "markdown",
   "id": "8c692d1f",
   "metadata": {},
   "source": [
    "# List and numPy"
   ]
  },
  {
   "cell_type": "markdown",
   "id": "02f2435a",
   "metadata": {},
   "source": [
    "### 5.1\n",
    "\n",
    "Эндокринолог Софья Степановна назначает своим пациентам, имеющим заболевания щитовидной железы, через регулярные интервалы времени (через каждые три месяца) сдавать анализ крови для определения уровня тиреотропного гормона (ТТГ), чтобы контролировать эффективность терапии. Она попросила, чтобы в лаборатории результаты анализа каждого пациента заносили в его индивидуальный список. В лаборатории так и поступают и дополнительно делают следующее: если пациент не является на плановую сдачу анализа, то в его список заносится значение -9999.0. \n",
    "\n",
    "Напишите программу, на вход которой подаётся список, содержащий результаты анализа ТТГ конкретного пациента через пробел (известно, что пациент хотя бы один раз сдавал анализ). Необходимо удалить из списка все вхождения числа -9999.0 (нужно модифицировать исходный список, не использовать дополнительные новые списки) и вывести точные значения изменённого списка на экран через пробел. Если в списке нет значений -9999.0, то вывести на экран список без изменений."
   ]
  },
  {
   "cell_type": "code",
   "execution_count": 5,
   "id": "0cc60dc9",
   "metadata": {},
   "outputs": [
    {
     "name": "stdout",
     "output_type": "stream",
     "text": [
      "1.00\n"
     ]
    }
   ],
   "source": [
    "lst = list(map(float, input().split()))\n",
    "i = 0\n",
    "while i != len(lst):\n",
    "    if lst[i] == -9999.0:\n",
    "        lst.remove(lst[i])\n",
    "    else:\n",
    "        i += 1\n",
    "print(*['{:.2f}'.format(item) for item in lst])"
   ]
  },
  {
   "cell_type": "markdown",
   "id": "667fd959",
   "metadata": {},
   "source": [
    "### 5.2\n",
    "Напишите программу, которая принимает на вход список целых чисел, разделённых запятой, и для каждого элемента в списке определяет сумму двух его соседей. Для крайних элементов списка, одним из соседей является элемент, расположенный на другом конце списка. Необходимо вывести на экран соответствующие суммы через точку с запятой.  Если в списке меньше трёх элементов, необходимо вывести на экран исходный список (через точку с запятой)."
   ]
  },
  {
   "cell_type": "code",
   "execution_count": 83,
   "id": "57485579",
   "metadata": {},
   "outputs": [
    {
     "name": "stdout",
     "output_type": "stream",
     "text": [
      "3, 7, 11\n",
      "18;14;10\n"
     ]
    }
   ],
   "source": [
    "lst = list(map(int, input().split(\",\")))\n",
    "summa = 0\n",
    "lst_new = []\n",
    "if len(lst) >= 3:\n",
    "    for i in range(len(lst)):\n",
    "        if i < len(lst) - 1:\n",
    "            summa = lst[i-1] + lst[i+1]\n",
    "            lst_new.append(summa)\n",
    "        else:\n",
    "            summa = lst[0] + lst[-2]\n",
    "            lst_new.append(summa)\n",
    "    print(*lst_new, sep=\";\")\n",
    "else:\n",
    "    print(*lst, sep=\";\")\n",
    "    \n",
    "    "
   ]
  },
  {
   "cell_type": "markdown",
   "id": "da8cec2b",
   "metadata": {},
   "source": [
    "### 5.3\n",
    "На вход программе подаётся список натуральных чисел, разделённых пробелом. Необходимо сформировать двумерный квадратный массив numpy,  последовательно располагая элементы списка по строкам массива и вывести на экран через пробел диагональные элементы полученного массива."
   ]
  },
  {
   "cell_type": "code",
   "execution_count": 102,
   "id": "9f71410e",
   "metadata": {},
   "outputs": [
    {
     "name": "stdout",
     "output_type": "stream",
     "text": [
      "2 3 1 5 3 8 7 16 17\n",
      "2 3 17\n"
     ]
    }
   ],
   "source": [
    "import numpy as np\n",
    "\n",
    "\n",
    "lst = list(map(int, input().split()))\n",
    "size = int(len(lst) ** (1/2))\n",
    "a = np.array(lst)\n",
    "a = a.reshape(size, size)\n",
    "b = np.diag(a)\n",
    "print(*b)"
   ]
  },
  {
   "cell_type": "markdown",
   "id": "7d469ae1",
   "metadata": {},
   "source": [
    "### 5.4\n",
    "Программа принимает на вход четыре натуральных числа N, M, K, S, разделённых пробелом. Необходимо создать целочисленный двумерный массив numpy, содержащий N строк и M столбцов и заполнить его единицами. Затем умножить все чётные строки (0, 2, 4, ...) на K, а все нечётные столбцы (1, 3, 5, ...) умножить на S. Программа должна вывести на экран сумму всех элементов полученного массива."
   ]
  },
  {
   "cell_type": "code",
   "execution_count": 168,
   "id": "f2228a58",
   "metadata": {},
   "outputs": [
    {
     "name": "stdout",
     "output_type": "stream",
     "text": [
      "2 3 2 5\n",
      "21\n"
     ]
    }
   ],
   "source": [
    "import numpy as np \n",
    "\n",
    "\n",
    "n = list(map(int, input().split()))\n",
    "a = np.ones((n[0], n[1]))\n",
    "for row_i in range(0, a.shape[0], 2):\n",
    "    a[row_i] *= n[2]\n",
    "for col_i in range(1, a.shape[1], 2):\n",
    "    a[:,col_i] *= n[3]\n",
    "print(int(np.sum(a)))"
   ]
  },
  {
   "cell_type": "markdown",
   "id": "cc1bd2cb",
   "metadata": {},
   "source": [
    "## 5.5\n",
    "Сформируйте квадратный двумерный массив numpy, содержащий N строк и N столбцов по следующему правилу: каждый диагональный элемент равен целому числу D, каждый элемент, расположенный над диагональю равен целому числу U, а каждый элемент под диагональю равен целому числу L. Поэлементно сложите все строки и найдите максимальный элемент полученного одномерного массива.\n",
    "\n",
    "На вход программе подаются четыре строки: N в первой строке, D во второй строке, U в третьей строке, L в четвёртой строке. Ограничения: $$ N\\leq1000  , |D|\\leq10^8 , |U|\\leq10^8  ,  |L|\\leq10^8 $$\n",
    " \n",
    "\n",
    "Программа должна вывести на экран значение максимального элемента, полученного по вышеописанному алгоритму.\n",
    "\n",
    "Sample Input:3 5 -3 2\n",
    "\n",
    "Sample Output:9"
   ]
  },
  {
   "cell_type": "code",
   "execution_count": 10,
   "id": "a50db71b",
   "metadata": {},
   "outputs": [
    {
     "name": "stdout",
     "output_type": "stream",
     "text": [
      "[[ 5 -3 -3]\n",
      " [ 2  5 -3]\n",
      " [ 2  2  5]]\n",
      "9\n"
     ]
    }
   ],
   "source": [
    "import numpy as np \n",
    "\n",
    "n = int(input())\n",
    "d = int(input())\n",
    "u = int(input())\n",
    "l = int(input())\n",
    "a = np.zeros((n, n), dtype=int)\n",
    "np.fill_diagonal(a, d)\n",
    "n_row, n_col = a.shape\n",
    "for i in range(0, n_row):\n",
    "    for j in range(0, n_col):\n",
    "        if i < j:\n",
    "            a[i][j] = u\n",
    "        elif i > j:\n",
    "            a[i][j] = l\n",
    "print(np.max(np.sum(a, axis=1)))"
   ]
  }
 ],
 "metadata": {
  "kernelspec": {
   "display_name": "Python 3 (ipykernel)",
   "language": "python",
   "name": "python3"
  },
  "language_info": {
   "codemirror_mode": {
    "name": "ipython",
    "version": 3
   },
   "file_extension": ".py",
   "mimetype": "text/x-python",
   "name": "python",
   "nbconvert_exporter": "python",
   "pygments_lexer": "ipython3",
   "version": "3.9.9"
  }
 },
 "nbformat": 4,
 "nbformat_minor": 5
}
